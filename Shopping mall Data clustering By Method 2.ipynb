{
 "cells": [
  {
   "cell_type": "code",
   "execution_count": 1,
   "metadata": {},
   "outputs": [],
   "source": [
    "from scipy.cluster.hierarchy import linkage\n",
    "from scipy.cluster.hierarchy import dendrogram\n",
    "from scipy.cluster.hierarchy import fcluster\n",
    "import matplotlib.pyplot as plt\n",
    "import pandas as pd\n",
    "import numpy as np\n",
    "from sklearn.cluster import KMeans"
   ]
  },
  {
   "cell_type": "code",
   "execution_count": 2,
   "metadata": {},
   "outputs": [
    {
     "name": "stdout",
     "output_type": "stream",
     "text": [
      "<class 'pandas.core.frame.DataFrame'>\n",
      "RangeIndex: 200 entries, 0 to 199\n",
      "Data columns (total 5 columns):\n",
      "CustomerID                200 non-null int64\n",
      "Gender                    200 non-null object\n",
      "Age                       200 non-null int64\n",
      "Annual Income (k$)        200 non-null int64\n",
      "Spending Score (1-100)    200 non-null int64\n",
      "dtypes: int64(4), object(1)\n",
      "memory usage: 7.1+ KB\n"
     ]
    }
   ],
   "source": [
    "shoppers=pd.read_csv('Mall_Customers.csv')\n",
    "shoppers.info()"
   ]
  },
  {
   "cell_type": "code",
   "execution_count": 3,
   "metadata": {},
   "outputs": [
    {
     "data": {
      "text/html": [
       "<div>\n",
       "<style scoped>\n",
       "    .dataframe tbody tr th:only-of-type {\n",
       "        vertical-align: middle;\n",
       "    }\n",
       "\n",
       "    .dataframe tbody tr th {\n",
       "        vertical-align: top;\n",
       "    }\n",
       "\n",
       "    .dataframe thead th {\n",
       "        text-align: right;\n",
       "    }\n",
       "</style>\n",
       "<table border=\"1\" class=\"dataframe\">\n",
       "  <thead>\n",
       "    <tr style=\"text-align: right;\">\n",
       "      <th></th>\n",
       "      <th>CustomerID</th>\n",
       "      <th>Gender</th>\n",
       "      <th>Age</th>\n",
       "      <th>Annual Income (k$)</th>\n",
       "      <th>Spending Score (1-100)</th>\n",
       "    </tr>\n",
       "  </thead>\n",
       "  <tbody>\n",
       "    <tr>\n",
       "      <td>0</td>\n",
       "      <td>1</td>\n",
       "      <td>Male</td>\n",
       "      <td>19</td>\n",
       "      <td>15</td>\n",
       "      <td>39</td>\n",
       "    </tr>\n",
       "    <tr>\n",
       "      <td>1</td>\n",
       "      <td>2</td>\n",
       "      <td>Male</td>\n",
       "      <td>21</td>\n",
       "      <td>15</td>\n",
       "      <td>81</td>\n",
       "    </tr>\n",
       "    <tr>\n",
       "      <td>2</td>\n",
       "      <td>3</td>\n",
       "      <td>Female</td>\n",
       "      <td>20</td>\n",
       "      <td>16</td>\n",
       "      <td>6</td>\n",
       "    </tr>\n",
       "    <tr>\n",
       "      <td>3</td>\n",
       "      <td>4</td>\n",
       "      <td>Female</td>\n",
       "      <td>23</td>\n",
       "      <td>16</td>\n",
       "      <td>77</td>\n",
       "    </tr>\n",
       "    <tr>\n",
       "      <td>4</td>\n",
       "      <td>5</td>\n",
       "      <td>Female</td>\n",
       "      <td>31</td>\n",
       "      <td>17</td>\n",
       "      <td>40</td>\n",
       "    </tr>\n",
       "  </tbody>\n",
       "</table>\n",
       "</div>"
      ],
      "text/plain": [
       "   CustomerID  Gender  Age  Annual Income (k$)  Spending Score (1-100)\n",
       "0           1    Male   19                  15                      39\n",
       "1           2    Male   21                  15                      81\n",
       "2           3  Female   20                  16                       6\n",
       "3           4  Female   23                  16                      77\n",
       "4           5  Female   31                  17                      40"
      ]
     },
     "execution_count": 3,
     "metadata": {},
     "output_type": "execute_result"
    }
   ],
   "source": [
    "shoppers.head()"
   ]
  },
  {
   "cell_type": "code",
   "execution_count": 5,
   "metadata": {},
   "outputs": [],
   "source": [
    "shoppers.rename(columns={'Gender':'gender','Annual Income (k$)':'income','Spending Score (1-100)':'score'},inplace=True)"
   ]
  },
  {
   "cell_type": "code",
   "execution_count": 7,
   "metadata": {},
   "outputs": [
    {
     "data": {
      "text/html": [
       "<div>\n",
       "<style scoped>\n",
       "    .dataframe tbody tr th:only-of-type {\n",
       "        vertical-align: middle;\n",
       "    }\n",
       "\n",
       "    .dataframe tbody tr th {\n",
       "        vertical-align: top;\n",
       "    }\n",
       "\n",
       "    .dataframe thead th {\n",
       "        text-align: right;\n",
       "    }\n",
       "</style>\n",
       "<table border=\"1\" class=\"dataframe\">\n",
       "  <thead>\n",
       "    <tr style=\"text-align: right;\">\n",
       "      <th></th>\n",
       "      <th>CustomerID</th>\n",
       "      <th>gender</th>\n",
       "      <th>Age</th>\n",
       "      <th>income</th>\n",
       "      <th>score</th>\n",
       "    </tr>\n",
       "  </thead>\n",
       "  <tbody>\n",
       "    <tr>\n",
       "      <td>0</td>\n",
       "      <td>1</td>\n",
       "      <td>Male</td>\n",
       "      <td>19</td>\n",
       "      <td>15</td>\n",
       "      <td>39</td>\n",
       "    </tr>\n",
       "    <tr>\n",
       "      <td>1</td>\n",
       "      <td>2</td>\n",
       "      <td>Male</td>\n",
       "      <td>21</td>\n",
       "      <td>15</td>\n",
       "      <td>81</td>\n",
       "    </tr>\n",
       "    <tr>\n",
       "      <td>2</td>\n",
       "      <td>3</td>\n",
       "      <td>Female</td>\n",
       "      <td>20</td>\n",
       "      <td>16</td>\n",
       "      <td>6</td>\n",
       "    </tr>\n",
       "    <tr>\n",
       "      <td>3</td>\n",
       "      <td>4</td>\n",
       "      <td>Female</td>\n",
       "      <td>23</td>\n",
       "      <td>16</td>\n",
       "      <td>77</td>\n",
       "    </tr>\n",
       "    <tr>\n",
       "      <td>4</td>\n",
       "      <td>5</td>\n",
       "      <td>Female</td>\n",
       "      <td>31</td>\n",
       "      <td>17</td>\n",
       "      <td>40</td>\n",
       "    </tr>\n",
       "  </tbody>\n",
       "</table>\n",
       "</div>"
      ],
      "text/plain": [
       "   CustomerID  gender  Age  income  score\n",
       "0           1    Male   19      15     39\n",
       "1           2    Male   21      15     81\n",
       "2           3  Female   20      16      6\n",
       "3           4  Female   23      16     77\n",
       "4           5  Female   31      17     40"
      ]
     },
     "execution_count": 7,
     "metadata": {},
     "output_type": "execute_result"
    }
   ],
   "source": [
    "shoppers.head()"
   ]
  },
  {
   "cell_type": "code",
   "execution_count": 16,
   "metadata": {},
   "outputs": [],
   "source": [
    "# Step 4:  Visualize the data through Scatter plots for \"pair-wise\" combinations of the Features  \n",
    "# Step 4a:  Specify the Features to be included in the Cluster Analysis  \n",
    "features = ['Age', 'income', 'score']\n",
    "feature_names = ['Age', '# income', 'score']\n",
    "feature_longnames = ['Age', '# income', 'score']\n"
   ]
  },
  {
   "cell_type": "code",
   "execution_count": 17,
   "metadata": {},
   "outputs": [
    {
     "ename": "IndexError",
     "evalue": "list index out of range",
     "output_type": "error",
     "traceback": [
      "\u001b[1;31m---------------------------------------------------------------------------\u001b[0m",
      "\u001b[1;31mIndexError\u001b[0m                                Traceback (most recent call last)",
      "\u001b[1;32m<ipython-input-17-0038841c1d78>\u001b[0m in \u001b[0;36m<module>\u001b[1;34m\u001b[0m\n\u001b[0;32m      5\u001b[0m         \u001b[1;32mfor\u001b[0m \u001b[0mj\u001b[0m \u001b[1;32min\u001b[0m \u001b[0mnp\u001b[0m\u001b[1;33m.\u001b[0m\u001b[0marange\u001b[0m \u001b[1;33m(\u001b[0m\u001b[1;36m4\u001b[0m\u001b[1;33m)\u001b[0m\u001b[1;33m:\u001b[0m\u001b[1;33m\u001b[0m\u001b[1;33m\u001b[0m\u001b[0m\n\u001b[0;32m      6\u001b[0m                 \u001b[0max\u001b[0m \u001b[1;33m=\u001b[0m \u001b[0mfig\u001b[0m\u001b[1;33m.\u001b[0m\u001b[0madd_subplot\u001b[0m \u001b[1;33m(\u001b[0m\u001b[1;36m2\u001b[0m\u001b[1;33m,\u001b[0m \u001b[1;36m2\u001b[0m\u001b[1;33m,\u001b[0m \u001b[0mj\u001b[0m\u001b[1;33m+\u001b[0m\u001b[1;36m1\u001b[0m\u001b[1;33m)\u001b[0m\u001b[1;33m\u001b[0m\u001b[1;33m\u001b[0m\u001b[0m\n\u001b[1;32m----> 7\u001b[1;33m                 \u001b[0max\u001b[0m\u001b[1;33m.\u001b[0m\u001b[0mscatter\u001b[0m \u001b[1;33m(\u001b[0m\u001b[0mfeatures\u001b[0m \u001b[1;33m[\u001b[0m\u001b[0mi\u001b[0m\u001b[1;33m]\u001b[0m\u001b[1;33m,\u001b[0m \u001b[0mfeatures\u001b[0m \u001b[1;33m[\u001b[0m\u001b[0mj\u001b[0m\u001b[1;33m]\u001b[0m\u001b[1;33m,\u001b[0m \u001b[0mdata\u001b[0m\u001b[1;33m=\u001b[0m\u001b[0mshoppers\u001b[0m\u001b[1;33m,\u001b[0m \u001b[0mc\u001b[0m\u001b[1;33m=\u001b[0m\u001b[1;34m'k'\u001b[0m\u001b[1;33m,\u001b[0m \u001b[0ms\u001b[0m\u001b[1;33m=\u001b[0m\u001b[1;36m1\u001b[0m\u001b[1;33m)\u001b[0m\u001b[1;33m\u001b[0m\u001b[1;33m\u001b[0m\u001b[0m\n\u001b[0m\u001b[0;32m      8\u001b[0m                 \u001b[0max\u001b[0m\u001b[1;33m.\u001b[0m\u001b[0mset_xlabel\u001b[0m \u001b[1;33m(\u001b[0m\u001b[0mfeature_longnames\u001b[0m \u001b[1;33m[\u001b[0m\u001b[0mi\u001b[0m\u001b[1;33m]\u001b[0m\u001b[1;33m)\u001b[0m\u001b[1;33m\u001b[0m\u001b[1;33m\u001b[0m\u001b[0m\n\u001b[0;32m      9\u001b[0m                 \u001b[0max\u001b[0m\u001b[1;33m.\u001b[0m\u001b[0mset_ylabel\u001b[0m \u001b[1;33m(\u001b[0m\u001b[0mfeature_longnames\u001b[0m \u001b[1;33m[\u001b[0m\u001b[0mj\u001b[0m\u001b[1;33m]\u001b[0m\u001b[1;33m)\u001b[0m\u001b[1;33m\u001b[0m\u001b[1;33m\u001b[0m\u001b[0m\n",
      "\u001b[1;31mIndexError\u001b[0m: list index out of range"
     ]
    },
    {
     "data": {
      "image/png": "[encoded data removed]",
      "text/plain": [
       "<Figure size 432x288 with 4 Axes>"
      ]
     },
     "metadata": {
      "needs_background": "light"
     },
     "output_type": "display_data"
    }
   ],
   "source": [
    "# Step 4b:  Draw Scatter plots for each \"pair-wise\" combination of the Features  \n",
    "for i in np.arange (8):\n",
    "\tfig = plt.figure()\n",
    "\tfig.subplots_adjust (hspace=0.4, wspace=0.4)\n",
    "\tfor j in np.arange (4):\n",
    "\t\tax = fig.add_subplot (2, 2, j+1)\n",
    "\t\tax.scatter (features [i], features [j], data=shoppers, c='k', s=1)\n",
    "\t\tax.set_xlabel (feature_longnames [i])\n",
    "\t\tax.set_ylabel (feature_longnames [j])\n",
    "\t\tax.set_title ('(Pair-wise) Feature scatter')\n",
    "\tfig = plt.figure()\n",
    "\tfig.subplots_adjust (hspace=0.4, wspace=0.4)\n",
    "\tfor j in np.arange (4):\n",
    "\t\tax = fig.add_subplot (2, 2, j+1)\n",
    "\t\tax.scatter (features [i], features [j+4], data=shoppers, c='k', s=1)\n",
    "\t\tax.set_xlabel (feature_longnames [i])\n",
    "\t\tax.set_ylabel (feature_longnames [j+4])\n",
    "\t\tax.set_title ('(Pair-wise) Feature scatter')"
   ]
  },
  {
   "cell_type": "code",
   "execution_count": 18,
   "metadata": {},
   "outputs": [],
   "source": [
    "X = np.array (shoppers [features])"
   ]
  },
  {
   "cell_type": "code",
   "execution_count": 19,
   "metadata": {},
   "outputs": [
    {
     "data": {
      "text/plain": [
       "array([[ 19,  15,  39],\n",
       "       [ 21,  15,  81],\n",
       "       [ 20,  16,   6],\n",
       "       [ 23,  16,  77],\n",
       "       [ 31,  17,  40],\n",
       "       [ 22,  17,  76],\n",
       "       [ 35,  18,   6],\n",
       "       [ 23,  18,  94],\n",
       "       [ 64,  19,   3],\n",
       "       [ 30,  19,  72],\n",
       "       [ 67,  19,  14],\n",
       "       [ 35,  19,  99],\n",
       "       [ 58,  20,  15],\n",
       "       [ 24,  20,  77],\n",
       "       [ 37,  20,  13],\n",
       "       [ 22,  20,  79],\n",
       "       [ 35,  21,  35],\n",
       "       [ 20,  21,  66],\n",
       "       [ 52,  23,  29],\n",
       "       [ 35,  23,  98],\n",
       "       [ 35,  24,  35],\n",
       "       [ 25,  24,  73],\n",
       "       [ 46,  25,   5],\n",
       "       [ 31,  25,  73],\n",
       "       [ 54,  28,  14],\n",
       "       [ 29,  28,  82],\n",
       "       [ 45,  28,  32],\n",
       "       [ 35,  28,  61],\n",
       "       [ 40,  29,  31],\n",
       "       [ 23,  29,  87],\n",
       "       [ 60,  30,   4],\n",
       "       [ 21,  30,  73],\n",
       "       [ 53,  33,   4],\n",
       "       [ 18,  33,  92],\n",
       "       [ 49,  33,  14],\n",
       "       [ 21,  33,  81],\n",
       "       [ 42,  34,  17],\n",
       "       [ 30,  34,  73],\n",
       "       [ 36,  37,  26],\n",
       "       [ 20,  37,  75],\n",
       "       [ 65,  38,  35],\n",
       "       [ 24,  38,  92],\n",
       "       [ 48,  39,  36],\n",
       "       [ 31,  39,  61],\n",
       "       [ 49,  39,  28],\n",
       "       [ 24,  39,  65],\n",
       "       [ 50,  40,  55],\n",
       "       [ 27,  40,  47],\n",
       "       [ 29,  40,  42],\n",
       "       [ 31,  40,  42],\n",
       "       [ 49,  42,  52],\n",
       "       [ 33,  42,  60],\n",
       "       [ 31,  43,  54],\n",
       "       [ 59,  43,  60],\n",
       "       [ 50,  43,  45],\n",
       "       [ 47,  43,  41],\n",
       "       [ 51,  44,  50],\n",
       "       [ 69,  44,  46],\n",
       "       [ 27,  46,  51],\n",
       "       [ 53,  46,  46],\n",
       "       [ 70,  46,  56],\n",
       "       [ 19,  46,  55],\n",
       "       [ 67,  47,  52],\n",
       "       [ 54,  47,  59],\n",
       "       [ 63,  48,  51],\n",
       "       [ 18,  48,  59],\n",
       "       [ 43,  48,  50],\n",
       "       [ 68,  48,  48],\n",
       "       [ 19,  48,  59],\n",
       "       [ 32,  48,  47],\n",
       "       [ 70,  49,  55],\n",
       "       [ 47,  49,  42],\n",
       "       [ 60,  50,  49],\n",
       "       [ 60,  50,  56],\n",
       "       [ 59,  54,  47],\n",
       "       [ 26,  54,  54],\n",
       "       [ 45,  54,  53],\n",
       "       [ 40,  54,  48],\n",
       "       [ 23,  54,  52],\n",
       "       [ 49,  54,  42],\n",
       "       [ 57,  54,  51],\n",
       "       [ 38,  54,  55],\n",
       "       [ 67,  54,  41],\n",
       "       [ 46,  54,  44],\n",
       "       [ 21,  54,  57],\n",
       "       [ 48,  54,  46],\n",
       "       [ 55,  57,  58],\n",
       "       [ 22,  57,  55],\n",
       "       [ 34,  58,  60],\n",
       "       [ 50,  58,  46],\n",
       "       [ 68,  59,  55],\n",
       "       [ 18,  59,  41],\n",
       "       [ 48,  60,  49],\n",
       "       [ 40,  60,  40],\n",
       "       [ 32,  60,  42],\n",
       "       [ 24,  60,  52],\n",
       "       [ 47,  60,  47],\n",
       "       [ 27,  60,  50],\n",
       "       [ 48,  61,  42],\n",
       "       [ 20,  61,  49],\n",
       "       [ 23,  62,  41],\n",
       "       [ 49,  62,  48],\n",
       "       [ 67,  62,  59],\n",
       "       [ 26,  62,  55],\n",
       "       [ 49,  62,  56],\n",
       "       [ 21,  62,  42],\n",
       "       [ 66,  63,  50],\n",
       "       [ 54,  63,  46],\n",
       "       [ 68,  63,  43],\n",
       "       [ 66,  63,  48],\n",
       "       [ 65,  63,  52],\n",
       "       [ 19,  63,  54],\n",
       "       [ 38,  64,  42],\n",
       "       [ 19,  64,  46],\n",
       "       [ 18,  65,  48],\n",
       "       [ 19,  65,  50],\n",
       "       [ 63,  65,  43],\n",
       "       [ 49,  65,  59],\n",
       "       [ 51,  67,  43],\n",
       "       [ 50,  67,  57],\n",
       "       [ 27,  67,  56],\n",
       "       [ 38,  67,  40],\n",
       "       [ 40,  69,  58],\n",
       "       [ 39,  69,  91],\n",
       "       [ 23,  70,  29],\n",
       "       [ 31,  70,  77],\n",
       "       [ 43,  71,  35],\n",
       "       [ 40,  71,  95],\n",
       "       [ 59,  71,  11],\n",
       "       [ 38,  71,  75],\n",
       "       [ 47,  71,   9],\n",
       "       [ 39,  71,  75],\n",
       "       [ 25,  72,  34],\n",
       "       [ 31,  72,  71],\n",
       "       [ 20,  73,   5],\n",
       "       [ 29,  73,  88],\n",
       "       [ 44,  73,   7],\n",
       "       [ 32,  73,  73],\n",
       "       [ 19,  74,  10],\n",
       "       [ 35,  74,  72],\n",
       "       [ 57,  75,   5],\n",
       "       [ 32,  75,  93],\n",
       "       [ 28,  76,  40],\n",
       "       [ 32,  76,  87],\n",
       "       [ 25,  77,  12],\n",
       "       [ 28,  77,  97],\n",
       "       [ 48,  77,  36],\n",
       "       [ 32,  77,  74],\n",
       "       [ 34,  78,  22],\n",
       "       [ 34,  78,  90],\n",
       "       [ 43,  78,  17],\n",
       "       [ 39,  78,  88],\n",
       "       [ 44,  78,  20],\n",
       "       [ 38,  78,  76],\n",
       "       [ 47,  78,  16],\n",
       "       [ 27,  78,  89],\n",
       "       [ 37,  78,   1],\n",
       "       [ 30,  78,  78],\n",
       "       [ 34,  78,   1],\n",
       "       [ 30,  78,  73],\n",
       "       [ 56,  79,  35],\n",
       "       [ 29,  79,  83],\n",
       "       [ 19,  81,   5],\n",
       "       [ 31,  81,  93],\n",
       "       [ 50,  85,  26],\n",
       "       [ 36,  85,  75],\n",
       "       [ 42,  86,  20],\n",
       "       [ 33,  86,  95],\n",
       "       [ 36,  87,  27],\n",
       "       [ 32,  87,  63],\n",
       "       [ 40,  87,  13],\n",
       "       [ 28,  87,  75],\n",
       "       [ 36,  87,  10],\n",
       "       [ 36,  87,  92],\n",
       "       [ 52,  88,  13],\n",
       "       [ 30,  88,  86],\n",
       "       [ 58,  88,  15],\n",
       "       [ 27,  88,  69],\n",
       "       [ 59,  93,  14],\n",
       "       [ 35,  93,  90],\n",
       "       [ 37,  97,  32],\n",
       "       [ 32,  97,  86],\n",
       "       [ 46,  98,  15],\n",
       "       [ 29,  98,  88],\n",
       "       [ 41,  99,  39],\n",
       "       [ 30,  99,  97],\n",
       "       [ 54, 101,  24],\n",
       "       [ 28, 101,  68],\n",
       "       [ 41, 103,  17],\n",
       "       [ 36, 103,  85],\n",
       "       [ 34, 103,  23],\n",
       "       [ 32, 103,  69],\n",
       "       [ 33, 113,   8],\n",
       "       [ 38, 113,  91],\n",
       "       [ 47, 120,  16],\n",
       "       [ 35, 120,  79],\n",
       "       [ 45, 126,  28],\n",
       "       [ 32, 126,  74],\n",
       "       [ 32, 137,  18],\n",
       "       [ 30, 137,  83]], dtype=int64)"
      ]
     },
     "execution_count": 19,
     "metadata": {},
     "output_type": "execute_result"
    }
   ],
   "source": [
    "X"
   ]
  },
  {
   "cell_type": "code",
   "execution_count": 20,
   "metadata": {},
   "outputs": [],
   "source": [
    "# Step 5:  Prepare the data to be used for building the Cluster Analysis model  \n",
    "# Step 5a:  Create arrays for the Features  \n",
    "X = np.array (shoppers [features])\n",
    "# Step 5b:  Calculate the means and the standard deviations for each of the Features  \n",
    "mu = X.mean (axis=0)\n",
    "sigma = X.std (axis=0)\n",
    "# Step 5c:  Scale the data to be used for building the Cluster Analysis model  \n",
    "Xs = (X - mu) / sigma"
   ]
  },
  {
   "cell_type": "code",
   "execution_count": 25,
   "metadata": {},
   "outputs": [
    {
     "name": "stdout",
     "output_type": "stream",
     "text": [
      "Scale Matrix:\n",
      "  Features   Mean     StdDev\n",
      "0      Age  38.85  13.934041\n",
      "1   income  60.56  26.198977\n",
      "2    score  50.20  25.758882\n",
      "\n"
     ]
    }
   ],
   "source": [
    "# Step 6:  Preserve the data scaling parameters in the form of a reusable Scale Matrix  \n",
    "ScaleMatrix = pd.DataFrame()\n",
    "ScaleMatrix ['Features'] = features\n",
    "ScaleMatrix ['Mean'] = mu\n",
    "ScaleMatrix ['StdDev'] = sigma\n",
    "ScaleMatrix.to_csv (\"Shopping_Mall_Scale Matrix.csv\")\n",
    "print ('Scale Matrix:')\n",
    "print (ScaleMatrix)\n",
    "print ('')"
   ]
  },
  {
   "cell_type": "code",
   "execution_count": 22,
   "metadata": {},
   "outputs": [],
   "source": [
    "# Step 7:  Build the Cluster Analysis models for various numbers of clusters, ranging from a 1-Cluster model through a 12-Cluster model  \n",
    "# Step 7a:  Define and/or initialize the cluster labels, etc  \n",
    "n_clusters = [1, 2, 3, 4, 5, 6, 7, 8, 9, 10, 11, 12]\n",
    "iter_cluster_labels = ['Cluster-1', 'Cluster-2', 'Cluster-3', 'Cluster-4', 'Cluster-5', 'Cluster-6', 'Cluster-7', 'Cluster-8', 'Cluster-9', 'Cluster-10', 'Cluster-11', 'Cluster-12']\n",
    "iter_cluster_sols = ['1-Cluster sol', '2-Cluster sol', '3-Cluster sol', '4-Cluster sol', '5-Cluster sol', '6-Cluster sol', '7-Cluster sol', '8-Cluster sol', '9-Cluster sol', '10-Cluster sol', '11-Cluster sol', '12-Cluster sol']\n",
    "inertia = np.zeros (12)\n",
    "size = np.zeros ((12,12))"
   ]
  },
  {
   "cell_type": "code",
   "execution_count": 23,
   "metadata": {},
   "outputs": [
    {
     "name": "stderr",
     "output_type": "stream",
     "text": [
      "F:\\anaconda\\lib\\site-packages\\sklearn\\cluster\\_kmeans.py:882: UserWarning: KMeans is known to have a memory leak on Windows with MKL, when there are less chunks than available threads. You can avoid it by setting the environment variable OMP_NUM_THREADS=1.\n",
      "  f\"KMeans is known to have a memory leak on Windows \"\n"
     ]
    },
    {
     "name": "stdout",
     "output_type": "stream",
     "text": [
      "K-Means -  1 Clusters: % Variation | within: 100.0   versus  between: 0.0\n",
      "K-Means -  2 Clusters: % Variation | within: 64.8976981594062   versus  between: 35.102301840593796\n",
      "K-Means -  3 Clusters: % Variation | within: 49.20204102592481   versus  between: 50.79795897407519\n",
      "K-Means -  4 Clusters: % Variation | within: 34.20419124612653   versus  between: 65.79580875387347\n",
      "K-Means -  5 Clusters: % Variation | within: 28.04126336259472   versus  between: 71.95873663740528\n",
      "K-Means -  6 Clusters: % Variation | within: 22.31138893780931   versus  between: 77.68861106219069\n",
      "K-Means -  7 Clusters: % Variation | within: 19.521767939207574   versus  between: 80.47823206079242\n",
      "K-Means -  8 Clusters: % Variation | within: 17.35859705950836   versus  between: 82.64140294049164\n",
      "K-Means -  9 Clusters: % Variation | within: 15.549668958260602   versus  between: 84.4503310417394\n",
      "K-Means -  10 Clusters: % Variation | within: 13.614198750091493   versus  between: 86.38580124990851\n",
      "K-Means -  11 Clusters: % Variation | within: 11.995671320313622   versus  between: 88.00432867968638\n",
      "K-Means -  12 Clusters: % Variation | within: 11.138943626425482   versus  between: 88.86105637357451\n"
     ]
    }
   ],
   "source": [
    "# Step 7b:  Iterate the Cluster Analysis over the various numbers of clusters, ranging from a 1-Cluster model through a 12-Cluster model  \n",
    "for i in np.arange (12):\n",
    "\talgorithm = KMeans (n_clusters=n_clusters [i], init='k-means++')\n",
    "\tmodel = algorithm.fit (Xs)\n",
    "\tlabels = algorithm.labels_\n",
    "\tcluster_count = len (np.unique (labels))\n",
    "\tinertia [i] = algorithm.inertia_\n",
    "\tprint ('K-Means - ', cluster_count, 'Clusters:', '% Variation | within:', 100*inertia [i]/inertia[0], '  versus  between:', 100 - 100*inertia[i]/inertia[0])\n",
    "\tfor k in np.unique (labels):\n",
    "\t\tis_class_member = (labels==k)\n",
    "\t\tclass_sample = X [is_class_member]\n",
    "\t\tsize [i,k] = len (class_sample)"
   ]
  },
  {
   "cell_type": "code",
   "execution_count": 26,
   "metadata": {},
   "outputs": [
    {
     "name": "stdout",
     "output_type": "stream",
     "text": [
      "Cluster Sizes:\n",
      "          Solution  Cluster-1  Cluster-2  Cluster-3  Cluster-4  Cluster-5  \\\n",
      "0    1-Cluster sol      100.0        0.0        0.0        0.0        0.0   \n",
      "1    2-Cluster sol       48.5       51.5        0.0        0.0        0.0   \n",
      "2    3-Cluster sol       34.0       45.5       20.5        0.0        0.0   \n",
      "3    4-Cluster sol       20.0       32.5       28.5       19.0        0.0   \n",
      "4    5-Cluster sol       20.0       10.0       19.5       27.0       23.5   \n",
      "5    6-Cluster sol       19.0       22.5       16.5       19.5       12.0   \n",
      "6    7-Cluster sol       11.0       17.0       16.0       19.5       16.5   \n",
      "7    8-Cluster sol       16.0       16.0       19.5        9.5       11.5   \n",
      "8    9-Cluster sol       10.5       16.0       14.5       10.0       10.0   \n",
      "9   10-Cluster sol       16.0        5.5       11.5       15.0        7.5   \n",
      "10  11-Cluster sol       14.5       10.0        6.0       14.0       16.0   \n",
      "11  12-Cluster sol        8.0       11.0       10.0        5.5        5.0   \n",
      "\n",
      "    Cluster-6  Cluster-7  Cluster-8  Cluster-9  Cluster-10  Cluster-11  \\\n",
      "0         0.0        0.0        0.0        0.0         0.0         0.0   \n",
      "1         0.0        0.0        0.0        0.0         0.0         0.0   \n",
      "2         0.0        0.0        0.0        0.0         0.0         0.0   \n",
      "3         0.0        0.0        0.0        0.0         0.0         0.0   \n",
      "4         0.0        0.0        0.0        0.0         0.0         0.0   \n",
      "5        10.5        0.0        0.0        0.0         0.0         0.0   \n",
      "6        10.0       10.0        0.0        0.0         0.0         0.0   \n",
      "7         7.5       10.0       10.0        0.0         0.0         0.0   \n",
      "8        11.5        6.5       16.0        5.0         0.0         0.0   \n",
      "9        10.0        6.0        9.5       14.0         5.0         0.0   \n",
      "10        5.5       11.0        4.0        5.5         8.5         5.0   \n",
      "11       15.5        4.0        6.5        5.0         5.5        10.0   \n",
      "\n",
      "    Cluster-12  \n",
      "0          0.0  \n",
      "1          0.0  \n",
      "2          0.0  \n",
      "3          0.0  \n",
      "4          0.0  \n",
      "5          0.0  \n",
      "6          0.0  \n",
      "7          0.0  \n",
      "8          0.0  \n",
      "9          0.0  \n",
      "10         0.0  \n",
      "11        14.0  \n",
      "\n"
     ]
    }
   ],
   "source": [
    "# Step 8:  Explore the Cluster Analysis models for the various numbers of clusters  \n",
    "# Step 8a:  Examine the sizes of the various clusters, for each iteration (i.e., ranging from a 1-Cluster model through a 12-Cluster model)  \n",
    "ClusterSizes = pd.DataFrame()\n",
    "ClusterSizes ['Solution'] = iter_cluster_sols\n",
    "for p in np.arange(12):\n",
    "\tClusterSizes [iter_cluster_labels [p]] = size [:,p] / len(Xs) * 100\n",
    "ClusterSizes.to_csv (\"Shopping_Mall_Cluster Sizes.csv\")\n",
    "print ('Cluster Sizes:')\n",
    "print (ClusterSizes)\n",
    "print ('')"
   ]
  },
  {
   "cell_type": "code",
   "execution_count": 37,
   "metadata": {},
   "outputs": [
    {
     "name": "stdout",
     "output_type": "stream",
     "text": [
      "Scree:\n",
      "          Solution  % Within-Cluster variation  % Between-Cluster variation\n",
      "0    1-Cluster sol                  100.000000                     0.000000\n",
      "1    2-Cluster sol                   64.897698                    35.102302\n",
      "2    3-Cluster sol                   49.202041                    50.797959\n",
      "3    4-Cluster sol                   34.204191                    65.795809\n",
      "4    5-Cluster sol                   28.041263                    71.958737\n",
      "5    6-Cluster sol                   22.311389                    77.688611\n",
      "6    7-Cluster sol                   19.521768                    80.478232\n",
      "7    8-Cluster sol                   17.358597                    82.641403\n",
      "8    9-Cluster sol                   15.549669                    84.450331\n",
      "9   10-Cluster sol                   13.614199                    86.385801\n",
      "10  11-Cluster sol                   11.995671                    88.004329\n",
      "11  12-Cluster sol                   11.138944                    88.861056\n",
      "\n"
     ]
    }
   ],
   "source": [
    "# Step 8b:  Examine the variation in the intra-cluster homogeneity as well as the inter-cluster heterogeneity, as the number of clusters in the model increases  \n",
    "withinss = 100 * inertia / inertia [0]\n",
    "betweenss = 100 - withinss\n",
    "Scree = pd.DataFrame()\n",
    "Scree ['Solution'] = iter_cluster_sols\n",
    "Scree ['% Within-Cluster variation'] = withinss\n",
    "Scree ['% Between-Cluster variation'] = betweenss\n",
    "Scree.to_csv (\"Shopping_Mall_Scree.csv\")\n",
    "print ('Scree:')\n",
    "print (Scree)\n",
    "print ('')"
   ]
  },
  {
   "cell_type": "code",
   "execution_count": 38,
   "metadata": {},
   "outputs": [],
   "source": [
    "features = ['Age', 'income', 'score']\n",
    "feature_names = ['Age', '# income', 'score']\n",
    "feature_longnames = ['Age', '# income', 'score']"
   ]
  },
  {
   "cell_type": "code",
   "execution_count": 39,
   "metadata": {},
   "outputs": [
    {
     "data": {
      "text/plain": [
       "<matplotlib.legend.Legend at 0x389c650>"
      ]
     },
     "execution_count": 39,
     "metadata": {},
     "output_type": "execute_result"
    },
    {
     "data": {
      "image/png": "[encoded data removed]",
      "text/plain": [
       "<Figure size 432x288 with 1 Axes>"
      ]
     },
     "metadata": {
      "needs_background": "light"
     },
     "output_type": "display_data"
    }
   ],
   "source": [
    "# Step 8c:  Visualize the variation in the intra-cluster homogeneity as well as the inter-cluster heterogeneity, as the number of clusters in the model increases  \n",
    "fig = plt.figure()\n",
    "ax = fig.add_subplot (1,1,1)\n",
    "ax.plot (n_clusters, withinss, c='r', marker='o', markersize=7, linewidth=2, label='Within-Cluster variation')\n",
    "ax.plot (n_clusters, betweenss, c='g', marker='o', markersize=7, linewidth=2, label='Between-Clusters variation')\n",
    "ax.set_xlabel ('Number of Clusters')\n",
    "ax.set_ylabel ('% Variation')\n",
    "ax.set_title ('Scree plot')\n",
    "ax.set_xlim (0, 13)\n",
    "ax.set_ylim (-5, 105)\n",
    "ax.legend (loc=\"best\")"
   ]
  },
  {
   "cell_type": "code",
   "execution_count": 40,
   "metadata": {},
   "outputs": [],
   "source": [
    "# Step 9:  Build the Cluster Analysis model, with 6 clusters  \n",
    "# Step 9a:  Build the Cluster Analysis model  \n",
    "algorithm = KMeans (n_clusters=6, init='k-means++')\n",
    "model = algorithm.fit (Xs)"
   ]
  },
  {
   "cell_type": "code",
   "execution_count": 41,
   "metadata": {},
   "outputs": [
    {
     "name": "stdout",
     "output_type": "stream",
     "text": [
      "K-Means -  6 Clusters\n"
     ]
    }
   ],
   "source": [
    "labels = algorithm.labels_\n",
    "cluster_count = len (np.unique (labels))\n",
    "print ('K-Means - ', cluster_count, 'Clusters')"
   ]
  },
  {
   "cell_type": "code",
   "execution_count": 42,
   "metadata": {},
   "outputs": [],
   "source": [
    "# Step 9c:  Capture (and \"de-scale\") the centroids of each of the clusters identified by the model  \n",
    "centroids = algorithm.cluster_centers_\n",
    "Centroids = (centroids * sigma) + mu\n",
    "Centroids = Centroids.T"
   ]
  },
  {
   "cell_type": "code",
   "execution_count": 43,
   "metadata": {},
   "outputs": [],
   "source": [
    "# Step 10:  Explore the results of the Cluster Analysis model  \n",
    "# Step 10a:  Define the labels (i.e., the \"identifiers\") for the various clusters  \n",
    "cluster_labels = ['Cluster-1', 'Cluster-2', 'Cluster-3', 'Cluster-4', 'Cluster-5', 'Cluster-6']"
   ]
  },
  {
   "cell_type": "code",
   "execution_count": 44,
   "metadata": {},
   "outputs": [
    {
     "name": "stdout",
     "output_type": "stream",
     "text": [
      "Cluster MODEL:\n",
      "   Features  Cluster-1  Cluster-2  Cluster-3  Cluster-4  Cluster-5  Cluster-6\n",
      "0       Age   0.478957   1.254721  -0.873098  -0.976027   0.221716  -0.441917\n",
      "1  # income  -1.308230  -0.240213  -0.113785  -1.325497   1.083225   0.991583\n",
      "2     score  -1.196444  -0.043998  -0.093580   1.037183  -1.290052   1.239503\n",
      "\n"
     ]
    }
   ],
   "source": [
    "# Step 10b:  Preserve the \"scaled\" centroids of each of the clusters identified by the model, in the form of a reusable Cluster Model  \n",
    "ClusterMODEL = pd.DataFrame()\n",
    "ClusterMODEL ['Features'] = feature_names\n",
    "centroids = centroids.T\n",
    "for k in np.arange (cluster_count):\n",
    "\tClusterMODEL [cluster_labels [k]] = centroids [:,k]\n",
    "ClusterMODEL.to_csv (\"Shopping_Mall_Cluster MODEL.csv\")\n",
    "print ('Cluster MODEL:')\n",
    "print (ClusterMODEL)\n",
    "print ('')"
   ]
  },
  {
   "cell_type": "code",
   "execution_count": 45,
   "metadata": {},
   "outputs": [
    {
     "name": "stdout",
     "output_type": "stream",
     "text": [
      "Cluster Profiles:\n",
      "   Features  Cluster-1  Cluster-2  Cluster-3  Cluster-4  Cluster-5  Cluster-6\n",
      "0       Age  45.523810  56.333333  26.684211  25.250000  41.939394  32.692308\n",
      "1  # income  26.285714  54.266667  57.578947  25.833333  88.939394  86.538462\n",
      "2     score  19.380952  49.066667  47.789474  76.916667  16.969697  82.128205\n",
      "\n"
     ]
    }
   ],
   "source": [
    "# Step 10c:  Construct the Cluster Profiles matrix from the \"de-scaled\" centroids of each of the clusters identified by the model  \n",
    "ClusterProfiles = pd.DataFrame()\n",
    "ClusterProfiles ['Features'] = feature_names\n",
    "for j in np.arange (cluster_count):\n",
    "\tClusterProfiles [cluster_labels [j]] = Centroids [:,j]\n",
    "ClusterProfiles.to_csv (\"Shopping_Mall Profiles.csv\")\n",
    "print ('Cluster Profiles:')\n",
    "print (ClusterProfiles)\n",
    "print ('')"
   ]
  },
  {
   "cell_type": "code",
   "execution_count": 52,
   "metadata": {},
   "outputs": [
    {
     "name": "stdout",
     "output_type": "stream",
     "text": [
      "Length of values does not match length of index\n"
     ]
    }
   ],
   "source": [
    "# Step 10d:  Compare the Cluster Profiles (i.e., the centroids of the various clusters) with the overall data  \n",
    "try:\n",
    "    ClusterProfilesRelative = pd.DataFrame()\n",
    "    ClusterProfilesRelative ['Features'] = feature_names\n",
    "    ClusterProfilesRelative ['Total'] = np.array (shoppers.mean())\n",
    "    for i in np.arange (len (cluster_labels)):\n",
    "        ClusterProfilesRelative [cluster_labels [i]] = ClusterProfiles [cluster_labels [i]]\n",
    "    ClusterProfilesRelative.to_csv (\"Shopping_Mall Profiles (Relative).csv\")\n",
    "    print ('Cluster Profiles (Relative):')\n",
    "    print (ClusterProfilesRelative)\n",
    "    print ('')\n",
    "except Exception as e:\n",
    "    print(e)"
   ]
  },
  {
   "cell_type": "code",
   "execution_count": 53,
   "metadata": {},
   "outputs": [
    {
     "name": "stdout",
     "output_type": "stream",
     "text": [
      "'Total'\n"
     ]
    }
   ],
   "source": [
    "# Step 10e:  Calibrate the Cluster Profiles (i.e., the centroids of the various clusters) as a proportion of the overall data  \n",
    "try:\n",
    "    \n",
    "    ClusterProfilesRelativepct = pd.DataFrame()\n",
    "\n",
    "    ClusterProfilesRelativepct ['Features'] = feature_names\n",
    "    ClusterProfilesRelativepct ['Total'] = 100 * ClusterProfilesRelative ['Total'] / ClusterProfilesRelative ['Total']\n",
    "    for i in np.arange (len (cluster_labels)):\n",
    "        ClusterProfilesRelativepct [cluster_labels [i]] = 100 * ClusterProfilesRelative [cluster_labels [i]] / ClusterProfilesRelative ['Total']\n",
    "        ClusterProfilesRelativepct.to_csv (\"Shopping_Mall Profiles (Relative %).csv\")\n",
    "        print ('Cluster Profiles (Relative %)')\n",
    "        print (ClusterProfilesRelativepct)\n",
    "        print ('')\n",
    "except Exception as e:\n",
    "    print(e)"
   ]
  },
  {
   "cell_type": "code",
   "execution_count": 59,
   "metadata": {},
   "outputs": [
    {
     "name": "stdout",
     "output_type": "stream",
     "text": [
      "Cluster Mix:\n",
      "   Cluster #  % Observations\n",
      "0  Cluster-1            10.5\n",
      "1  Cluster-2            22.5\n",
      "2  Cluster-3            19.0\n",
      "3  Cluster-4            12.0\n",
      "4  Cluster-5            16.5\n",
      "5  Cluster-6            19.5\n",
      "\n"
     ]
    }
   ],
   "source": [
    "try:\n",
    "    \n",
    "    \n",
    "    mix = np.zeros (6)\n",
    "    for k in np.unique (labels):\n",
    "        is_class_member = (labels==k)\n",
    "        class_sample = X [is_class_member]\n",
    "        mix [k] = len (class_sample)\n",
    "    ClusterMix = pd.DataFrame()\n",
    "    ClusterMix ['Cluster #'] = cluster_labels\n",
    "    ClusterMix ['% Observations'] = 100 * mix / len (Xs)\n",
    "    ClusterMix.to_csv (\"Shopping_Mall Mix.csv\")\n",
    "    print ('Cluster Mix:')\n",
    "    print (ClusterMix)\n",
    "    print ('')\n",
    "except Exception as e:\n",
    "    print(e)"
   ]
  },
  {
   "cell_type": "code",
   "execution_count": 57,
   "metadata": {},
   "outputs": [
    {
     "data": {
      "text/plain": [
       "([<matplotlib.patches.Wedge at 0x4b69ef0>,\n",
       "  <matplotlib.patches.Wedge at 0x869e3d0>,\n",
       "  <matplotlib.patches.Wedge at 0x37d9bf0>,\n",
       "  <matplotlib.patches.Wedge at 0x37d9790>,\n",
       "  <matplotlib.patches.Wedge at 0x37d97f0>,\n",
       "  <matplotlib.patches.Wedge at 0x37997f0>],\n",
       " [Text(1.0406938983799077, -0.35630914929991697, 'Cluster-1'),\n",
       "  Text(0.22306606724899639, -1.0771450829122633, 'Cluster-2'),\n",
       "  Text(-0.9801071438778458, -0.49938961394848014, 'Cluster-3'),\n",
       "  Text(-0.9639373912137646, 0.5299289629940996, 'Cluster-4'),\n",
       "  Text(-0.18912208538467948, 1.0836202456671573, 'Cluster-5'),\n",
       "  Text(0.8999646441607303, 0.6325058412857941, 'Cluster-6')],\n",
       " [Text(0.5676512172981314, -0.19435044507268195, '10.5%'),\n",
       "  Text(0.12167240031763438, -0.5875336815885072, '22.5%'),\n",
       "  Text(-0.5346038966606431, -0.27239433488098913, '19.0%'),\n",
       "  Text(-0.5257840315711443, 0.28905216163314523, '12.0%'),\n",
       "  Text(-0.10315750111891607, 0.5910655885457221, '16.5%'),\n",
       "  Text(0.49088980590585285, 0.3450031861558877, '19.5%')])"
      ]
     },
     "execution_count": 57,
     "metadata": {},
     "output_type": "execute_result"
    },
    {
     "data": {
      "image/png": "[encoded data removed]",
      "text/plain": [
       "<Figure size 432x288 with 1 Axes>"
      ]
     },
     "metadata": {},
     "output_type": "display_data"
    }
   ],
   "source": [
    "# Step 10g:  Visualize the sizes of the various clusters identified by the model  \n",
    "fig = plt.figure()\n",
    "ax = fig.add_subplot (1,1,1)\n",
    "ax.pie ('% Observations', labels='Cluster #', data=ClusterMix, counterclock=False, autopct='%1.1f%%')"
   ]
  },
  {
   "cell_type": "code",
   "execution_count": 60,
   "metadata": {},
   "outputs": [
    {
     "name": "stdout",
     "output_type": "stream",
     "text": [
      "<class 'pandas.core.frame.DataFrame'>\n",
      "RangeIndex: 200 entries, 0 to 199\n",
      "Data columns (total 6 columns):\n",
      "CustomerID    200 non-null int64\n",
      "gender        200 non-null object\n",
      "Age           200 non-null int64\n",
      "income        200 non-null int64\n",
      "score         200 non-null int64\n",
      "ClusterID     200 non-null object\n",
      "dtypes: int64(4), object(2)\n",
      "memory usage: 7.9+ KB\n"
     ]
    }
   ],
   "source": [
    "# Step 11:  Visualize the segregation of the values of the Features, across the various clusters identified by the model  \n",
    "# Step 11a:  Tag each observation in the data with the label of the corresponding cluster, as identified by the model  \n",
    "ClusterID = np.repeat ('          ', len (Xs))\n",
    "for i in np.arange (len (Xs)):\n",
    "\tClusterID [i] = cluster_labels [labels [i]]\n",
    "shoppers ['ClusterID'] = ClusterID\n",
    "shoppers.to_csv (\"Shopping_Mall (Cluster IDs).csv\")\n",
    "shoppers.info()"
   ]
  },
  {
   "cell_type": "code",
   "execution_count": 62,
   "metadata": {},
   "outputs": [
    {
     "name": "stdout",
     "output_type": "stream",
     "text": [
      "list index out of range\n"
     ]
    },
    {
     "data": {
      "image/png": "[encoded data removed]",
      "text/plain": [
       "<Figure size 432x288 with 1 Axes>"
      ]
     },
     "metadata": {
      "needs_background": "light"
     },
     "output_type": "display_data"
    },
    {
     "data": {
      "image/png": "[encoded data removed]",
      "text/plain": [
       "<Figure size 432x288 with 1 Axes>"
      ]
     },
     "metadata": {
      "needs_background": "light"
     },
     "output_type": "display_data"
    },
    {
     "data": {
      "image/png": "[encoded data removed]",
      "text/plain": [
       "<Figure size 432x288 with 1 Axes>"
      ]
     },
     "metadata": {
      "needs_background": "light"
     },
     "output_type": "display_data"
    },
    {
     "data": {
      "image/png": "[encoded data removed]",
      "text/plain": [
       "<Figure size 432x288 with 1 Axes>"
      ]
     },
     "metadata": {
      "needs_background": "light"
     },
     "output_type": "display_data"
    }
   ],
   "source": [
    "try:\n",
    "    \n",
    "    for i in np.arange (8):\n",
    "        fig = plt.figure()\n",
    "        ax = fig.add_subplot (1,1,1)\n",
    "        shoppers.boxplot (features [i], by = 'ClusterID', ax=ax)\n",
    "        ax.set_xlabel ('Cluster #')\n",
    "        ax.set_ylabel (feature_longnames [i])\n",
    "        ax.set_title (str (feature_longnames [i]) + ' -  by Cluster #')\n",
    "except Exception as e:\n",
    "    print(e)"
   ]
  },
  {
   "cell_type": "code",
   "execution_count": 63,
   "metadata": {},
   "outputs": [
    {
     "name": "stdout",
     "output_type": "stream",
     "text": [
      "Cluster Centroids:\n",
      "ClusterID  Cluster-1  Cluster-2  Cluster-3  Cluster-4  Cluster-5  Cluster-6\n",
      "Age        45.523810  56.333333  26.684211  25.250000  41.939394  32.692308\n",
      "income     26.285714  54.266667  57.578947  25.833333  88.939394  86.538462\n",
      "score      19.380952  49.066667  47.789474  76.916667  16.969697  82.128205\n",
      "\n",
      "Cluster Profiles:\n",
      "   Features  Cluster-1  Cluster-2  Cluster-3  Cluster-4  Cluster-5  Cluster-6\n",
      "0       Age  45.523810  56.333333  26.684211  25.250000  41.939394  32.692308\n",
      "1  # income  26.285714  54.266667  57.578947  25.833333  88.939394  86.538462\n",
      "2     score  19.380952  49.066667  47.789474  76.916667  16.969697  82.128205\n",
      "\n"
     ]
    }
   ],
   "source": [
    "# Step 11c:  Compare the Cluster Profiles (i.e., the centroids of the various clusters) with the average values of the Features (grouped by the various clusters identified by the model)  \n",
    "cluster_means = shoppers [features].groupby (shoppers ['ClusterID']).mean()\n",
    "cluster_means = cluster_means.T\n",
    "print ('Cluster Centroids:')\n",
    "print (cluster_means)\n",
    "print ('')\n",
    "print ('Cluster Profiles:')\n",
    "print (ClusterProfiles)\n",
    "print ('')"
   ]
  },
  {
   "cell_type": "code",
   "execution_count": null,
   "metadata": {},
   "outputs": [],
   "source": []
  }
 ],
 "metadata": {
  "kernelspec": {
   "display_name": "Python 3",
   "language": "python",
   "name": "python3"
  },
  "language_info": {
   "codemirror_mode": {
    "name": "ipython",
    "version": 3
   },
   "file_extension": ".py",
   "mimetype": "text/x-python",
   "name": "python",
   "nbconvert_exporter": "python",
   "pygments_lexer": "ipython3",
   "version": "3.7.4"
  }
 },
 "nbformat": 4,
 "nbformat_minor": 2
}
